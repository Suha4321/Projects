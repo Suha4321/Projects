{
 "cells": [
  {
   "cell_type": "markdown",
   "metadata": {},
   "source": [
    "In this project we will be looking at the employee exit survey. The aim of the project is to find what kind of dissatisfaction do pople have when they leave the company\n",
    "\n",
    "The data for TAFE employee exit survey is https://data.gov.au/dataset/ds-qld-89970a3b-182b-41ea-aea2-6f9f17b5907e/details?q=exit%20survey\n",
    "The data for DETE is taken from https://data.gov.au/dataset/ds-qld-fe96ff30-d157-4a81-851d-215f2a0fe26d/details?q=exit%20survey\n",
    "\n"
   ]
  },
  {
   "cell_type": "code",
   "execution_count": 1224,
   "metadata": {},
   "outputs": [],
   "source": [
    "import pandas as pd\n",
    "import numpy as np\n",
    "import matplotlib.pyplot as plt\n"
   ]
  },
  {
   "cell_type": "code",
   "execution_count": 1225,
   "metadata": {
    "scrolled": false
   },
   "outputs": [],
   "source": [
    "#reading in non stated value as nan\n",
    "tafe_survey = pd.read_csv('/Users/Suha/Projects/TestGitHub/EmployeeExitSurvey/TAFE.csv', encoding = 'latin1', na_values = 'NaN')\n",
    "dete_survey = pd.read_csv('/Users/Suha/Projects/TestGitHub/EmployeeExitSurvey/DETE.csv', encoding = 'latin1', na_values = 'NaN')"
   ]
  },
  {
   "cell_type": "markdown",
   "metadata": {},
   "source": [
    "DETE dataframe column description\n",
    "ID: An id used to identify the participant of the survey\n",
    "SeparationType: The reason why the person's employment ended\n",
    "Cease Date: The year or month the person's employment ended\n",
    "DETE Start Date: The year the person began employment with the DETE\n",
    "\n",
    "TAFE dataframe columns description \n",
    "Record ID: An id used to identify the participant of the survey\n",
    "Reason for ceasing employment: The reason why the person's employment ended\n",
    "LengthofServiceOverall. Overall Length of Service at Institute (in years): The length of the person's employment (in years)\n",
    "\n"
   ]
  },
  {
   "cell_type": "code",
   "execution_count": 1226,
   "metadata": {},
   "outputs": [
    {
     "data": {
      "text/plain": [
       "Index(['Record ID', 'Institute', 'WorkArea', 'CESSATION YEAR',\n",
       "       'Reason for ceasing employment',\n",
       "       'Contributing Factors. Career Move - Public Sector ',\n",
       "       'Contributing Factors. Career Move - Private Sector ',\n",
       "       'Contributing Factors. Career Move - Self-employment',\n",
       "       'Contributing Factors. Ill Health',\n",
       "       'Contributing Factors. Maternity/Family',\n",
       "       'Contributing Factors. Dissatisfaction',\n",
       "       'Contributing Factors. Job Dissatisfaction',\n",
       "       'Contributing Factors. Interpersonal Conflict',\n",
       "       'Contributing Factors. Study', 'Contributing Factors. Travel',\n",
       "       'Contributing Factors. Other', 'Contributing Factors. NONE',\n",
       "       'Gender.     What is your Gender?', 'CurrentAge.     Current Age',\n",
       "       'Employment Type.     Employment Type',\n",
       "       'Classification.     Classification',\n",
       "       'LengthofServiceOverall. Overall Length of Service at Institute (in years)',\n",
       "       'LengthofServiceCurrent. Length of Service at current workplace (in years)'],\n",
       "      dtype='object')"
      ]
     },
     "execution_count": 1226,
     "metadata": {},
     "output_type": "execute_result"
    }
   ],
   "source": [
    "tafe_survey.columns\n",
    "# we do not need columns 17:66 so dropping them \n",
    "# We will keep the columns that indicate dissatisfaction for the employees\n",
    "tafe_survey_updated = tafe_survey.drop(tafe_survey.columns[17:66], axis = 1)\n",
    "tafe_survey_updated.columns\n"
   ]
  },
  {
   "cell_type": "code",
   "execution_count": 1227,
   "metadata": {},
   "outputs": [],
   "source": [
    "# romving the columns that are not required for the analysis\n",
    "# We will only keep the columns that indicate the dissatisfaction of the employees. \n",
    "dete_survey_updated = dete_survey.drop(dete_survey.columns[28:49], axis = 1)"
   ]
  },
  {
   "cell_type": "code",
   "execution_count": 1228,
   "metadata": {},
   "outputs": [
    {
     "data": {
      "text/plain": [
       "Index(['record_id', 'institute', 'workarea', 'cessation_year',\n",
       "       'reason_for_ceasing_employment',\n",
       "       'contributing_factors_career_move_public_sector',\n",
       "       'contributing_factors_career_move_private_sector',\n",
       "       'contributing_factors_career_move_selfemployment',\n",
       "       'contributing_factors_ill_health',\n",
       "       'contributing_factors_maternityfamily',\n",
       "       'contributing_factors_dissatisfaction',\n",
       "       'contributing_factors_job_dissatisfaction',\n",
       "       'contributing_factors_interpersonal_conflict',\n",
       "       'contributing_factors_study', 'contributing_factors_travel',\n",
       "       'contributing_factors_other', 'contributing_factors_none',\n",
       "       'gender_what_is_your_gender', 'currentage_current_age',\n",
       "       'employment_type_employment_type', 'classification_classification',\n",
       "       'lengthofserviceoverall_overall_length_of_service_at_institute_in_years',\n",
       "       'lengthofservicecurrent_length_of_service_at_current_workplace_in_years'],\n",
       "      dtype='object')"
      ]
     },
     "execution_count": 1228,
     "metadata": {},
     "output_type": "execute_result"
    }
   ],
   "source": [
    "#Let us clean the column names we need the python case\n",
    "tafe_survey_updated.columns = tafe_survey_updated.columns.str.strip().str.replace('.','').str.replace('-','')\n",
    "tafe_survey_updated.columns = tafe_survey_updated.columns.str.replace('\\s+', '_').str.lower().str.replace('/', '').str.replace('?', '').str.replace('(', '').str.replace(')','')\n",
    "tafe_survey_updated.columns"
   ]
  },
  {
   "cell_type": "code",
   "execution_count": 1229,
   "metadata": {},
   "outputs": [],
   "source": [
    "dete_survey_updated.columns = dete_survey_updated.columns.str.strip().str.replace('/', '').str.replace('\\s+', '_').str.lower()"
   ]
  },
  {
   "cell_type": "code",
   "execution_count": 1230,
   "metadata": {},
   "outputs": [
    {
     "data": {
      "text/plain": [
       "Index(['id', 'institute', 'workarea', 'cease_date', 'separationtype',\n",
       "       'contributing_factors_career_move_public_sector',\n",
       "       'contributing_factors_career_move_private_sector',\n",
       "       'contributing_factors_career_move_selfemployment',\n",
       "       'contributing_factors_ill_health',\n",
       "       'contributing_factors_maternityfamily',\n",
       "       'contributing_factors_dissatisfaction',\n",
       "       'contributing_factors_job_dissatisfaction',\n",
       "       'contributing_factors_interpersonal_conflict',\n",
       "       'contributing_factors_study', 'contributing_factors_travel',\n",
       "       'contributing_factors_other', 'contributing_factors_none', 'gender',\n",
       "       'age', 'employment_conditions', 'position', 'institute_service',\n",
       "       'lengthofservicecurrent_length_of_service_at_current_workplace_in_years'],\n",
       "      dtype='object')"
      ]
     },
     "execution_count": 1230,
     "metadata": {},
     "output_type": "execute_result"
    }
   ],
   "source": [
    "#renaming the tafe columns to the dete column names\n",
    "\n",
    "col_map = {'record_id':'id','cessation_year':'cease_date','reason_for_ceasing_employment': 'separationtype', 'gender_what_is_your_gender':'gender', 'currentage_current_age':'age','employment_type_employment_type':'employment_conditions','classification_classification':'position', 'lengthofserviceoverall_overall_length_of_service_at_institute_in_years':'institute_service'}\n",
    "tafe_survey_updated.rename(columns = col_map, inplace = True)\n",
    "tafe_survey_updated.columns"
   ]
  },
  {
   "cell_type": "markdown",
   "metadata": {},
   "source": [
    "Question - \n",
    "Are employees who have only worked for the institutes for a short period of time resigning due to some kind of dissatisfaction? What about employees who have been at the job longer?\n",
    "\n",
    "let us look at the columns that list the seperation type as the resignations"
   ]
  },
  {
   "cell_type": "code",
   "execution_count": 1231,
   "metadata": {
    "scrolled": true
   },
   "outputs": [
    {
     "data": {
      "text/plain": [
       "Resignation                 340\n",
       "Contract Expired            127\n",
       "Retrenchment/ Redundancy    104\n",
       "Retirement                   82\n",
       "Transfer                     25\n",
       "Termination                  23\n",
       "Name: separationtype, dtype: int64"
      ]
     },
     "execution_count": 1231,
     "metadata": {},
     "output_type": "execute_result"
    }
   ],
   "source": [
    "tafe_survey_updated['separationtype'].value_counts()"
   ]
  },
  {
   "cell_type": "code",
   "execution_count": 1232,
   "metadata": {},
   "outputs": [
    {
     "data": {
      "text/plain": [
       "(340, 23)"
      ]
     },
     "execution_count": 1232,
     "metadata": {},
     "output_type": "execute_result"
    }
   ],
   "source": [
    "tafe_resignations = tafe_survey_updated[tafe_survey_updated['separationtype'] == 'Resignation']\n",
    "tafe_resignations.shape"
   ]
  },
  {
   "cell_type": "code",
   "execution_count": 1233,
   "metadata": {},
   "outputs": [
    {
     "data": {
      "text/plain": [
       "Age Retirement                          285\n",
       "Resignation-Other reasons               150\n",
       "Resignation-Other employer               91\n",
       "Resignation-Move overseas/interstate     70\n",
       "Voluntary Early Retirement (VER)         67\n",
       "Ill Health Retirement                    61\n",
       "Other                                    49\n",
       "Contract Expired                         34\n",
       "Termination                              15\n",
       "Name: separationtype, dtype: int64"
      ]
     },
     "execution_count": 1233,
     "metadata": {},
     "output_type": "execute_result"
    }
   ],
   "source": [
    "dete_survey_updated['separationtype'].value_counts()"
   ]
  },
  {
   "cell_type": "code",
   "execution_count": 1234,
   "metadata": {},
   "outputs": [
    {
     "data": {
      "text/plain": [
       "(311, 35)"
      ]
     },
     "execution_count": 1234,
     "metadata": {},
     "output_type": "execute_result"
    }
   ],
   "source": [
    "dete_resignations = dete_survey_updated[(dete_survey_updated['separationtype'] =='Resignation-Other reasons' ) | (dete_survey_updated['separationtype'] =='Resignation-Other employer' )|(dete_survey_updated['separationtype'] =='Resignation-Move overseas/interstate' )]\n",
    "dete_resignations.shape"
   ]
  },
  {
   "cell_type": "markdown",
   "metadata": {},
   "source": [
    "now the dete_resignations and tafe_resignations only contain the value that correspond to the resignation\n",
    "        Let s look at the timings and yers in both to dtabases and check for anomalies"
   ]
  },
  {
   "cell_type": "code",
   "execution_count": 1235,
   "metadata": {},
   "outputs": [
    {
     "data": {
      "text/plain": [
       "2011.0    268\n",
       "2012.0    235\n",
       "2010.0    103\n",
       "2013.0     85\n",
       "2009.0      4\n",
       "Name: cease_date, dtype: int64"
      ]
     },
     "execution_count": 1235,
     "metadata": {},
     "output_type": "execute_result"
    }
   ],
   "source": [
    "tafe_survey_updated.columns\n",
    "tafe_survey_updated[['cease_date','institute_service']]\n",
    "tafe_survey_updated['cease_date'].value_counts(dropna = False)\n",
    "# we will drop the 7 values where we do not see the cease date as they do not contribute much to the analysis\n",
    "tafe_survey_updated = tafe_survey_updated.dropna(subset = ['cease_date'])\n",
    "tafe_survey_updated.shape\n",
    "# dropped 7 rows\n",
    "\n",
    "tafe_survey_updated['cease_date'].value_counts(dropna = False)\n",
    "\n",
    "\n"
   ]
  },
  {
   "cell_type": "code",
   "execution_count": 1236,
   "metadata": {},
   "outputs": [
    {
     "data": {
      "text/plain": [
       "(788, 35)"
      ]
     },
     "execution_count": 1236,
     "metadata": {},
     "output_type": "execute_result"
    }
   ],
   "source": [
    "dete_survey_updated['cease_date'].value_counts(ascending = True)\n",
    "#dropping the rows where sease date = 'Not Stated'\n",
    "dete_survey_updated = dete_survey_updated[dete_survey_updated['cease_date']!= 'Not Stated']\n",
    "dete_survey_updated.shape\n",
    "\n"
   ]
  },
  {
   "cell_type": "code",
   "execution_count": 1237,
   "metadata": {},
   "outputs": [
    {
     "data": {
      "text/plain": [
       "2013.0    380\n",
       "2012.0    354\n",
       "2014.0     51\n",
       "2010.0      2\n",
       "2006.0      1\n",
       "Name: cease_date, dtype: int64"
      ]
     },
     "execution_count": 1237,
     "metadata": {},
     "output_type": "execute_result"
    }
   ],
   "source": [
    "pattern = r\"([A-Z][a-z]{2}[-])\"\n",
    "dete_survey_updated['cease_date'] = dete_survey_updated['cease_date'].str.replace(pattern , '20').astype(float)\n",
    "dete_survey_updated['cease_date'].value_counts()\n"
   ]
  },
  {
   "cell_type": "code",
   "execution_count": 1238,
   "metadata": {},
   "outputs": [
    {
     "data": {
      "image/png": "[encoded data removed]",
      "text/plain": [
       "<Figure size 432x288 with 1 Axes>"
      ]
     },
     "metadata": {},
     "output_type": "display_data"
    }
   ],
   "source": [
    "#visualising the dates using the boxplot. The values look ok\n",
    "dete_survey_updated.boxplot(column = 'cease_date')\n",
    "plt.show()"
   ]
  },
  {
   "cell_type": "code",
   "execution_count": 1239,
   "metadata": {},
   "outputs": [
    {
     "data": {
      "image/png": "[encoded data removed]",
      "text/plain": [
       "<Figure size 432x288 with 1 Axes>"
      ]
     },
     "metadata": {},
     "output_type": "display_data"
    }
   ],
   "source": [
    "tafe_survey_updated.boxplot(column = 'cease_date')\n",
    "plt.show()"
   ]
  },
  {
   "cell_type": "markdown",
   "metadata": {},
   "source": [
    "Most of the cease date in dete are around 2012 - 13 and range from 2006 - 2014\n",
    "most of the cease date in the tafe are arounf 2011 -2012 and ranges from 2009-2013"
   ]
  },
  {
   "cell_type": "code",
   "execution_count": 1240,
   "metadata": {},
   "outputs": [
    {
     "data": {
      "image/png": "[encoded data removed]",
      "text/plain": [
       "<Figure size 432x288 with 1 Axes>"
      ]
     },
     "metadata": {},
     "output_type": "display_data"
    }
   ],
   "source": [
    "# let us go ahead and look at the length of the service in both the data frame \n",
    "dete_survey_updated.head()\n",
    "# look like dete_start_date - cease_date should give you service \n",
    "dete_survey_updated['dete_start_date'].value_counts(dropna = False)\n",
    "# there are about 69 values that are not stated. we might drop these rows as no logical inference can be made about \n",
    "dete_survey_updated = dete_survey_updated[dete_survey_updated['dete_start_date']!= 'Not Stated']\n",
    "dete_survey_updated['dete_start_date'] = dete_survey_updated['dete_start_date'].astype('float')\n",
    "dete_survey_updated.boxplot(column = 'dete_start_date')\n",
    "plt.show()\n"
   ]
  },
  {
   "cell_type": "code",
   "execution_count": 1241,
   "metadata": {},
   "outputs": [
    {
     "data": {
      "text/html": [
       "<div>\n",
       "<style scoped>\n",
       "    .dataframe tbody tr th:only-of-type {\n",
       "        vertical-align: middle;\n",
       "    }\n",
       "\n",
       "    .dataframe tbody tr th {\n",
       "        vertical-align: top;\n",
       "    }\n",
       "\n",
       "    .dataframe thead th {\n",
       "        text-align: right;\n",
       "    }\n",
       "</style>\n",
       "<table border=\"1\" class=\"dataframe\">\n",
       "  <thead>\n",
       "    <tr style=\"text-align: right;\">\n",
       "      <th></th>\n",
       "      <th>id</th>\n",
       "      <th>separationtype</th>\n",
       "      <th>cease_date</th>\n",
       "      <th>dete_start_date</th>\n",
       "      <th>role_start_date</th>\n",
       "      <th>position</th>\n",
       "      <th>classification</th>\n",
       "      <th>region</th>\n",
       "      <th>business_unit</th>\n",
       "      <th>employment_status</th>\n",
       "      <th>...</th>\n",
       "      <th>workload</th>\n",
       "      <th>none_of_the_above</th>\n",
       "      <th>gender</th>\n",
       "      <th>age</th>\n",
       "      <th>aboriginal</th>\n",
       "      <th>torres_strait</th>\n",
       "      <th>south_sea</th>\n",
       "      <th>disability</th>\n",
       "      <th>nesb</th>\n",
       "      <th>institute_service</th>\n",
       "    </tr>\n",
       "  </thead>\n",
       "  <tbody>\n",
       "    <tr>\n",
       "      <th>3</th>\n",
       "      <td>4</td>\n",
       "      <td>Resignation-Other reasons</td>\n",
       "      <td>May-12</td>\n",
       "      <td>2005</td>\n",
       "      <td>2006</td>\n",
       "      <td>Teacher</td>\n",
       "      <td>Primary</td>\n",
       "      <td>Central Queensland</td>\n",
       "      <td>NaN</td>\n",
       "      <td>Permanent Full-time</td>\n",
       "      <td>...</td>\n",
       "      <td>False</td>\n",
       "      <td>False</td>\n",
       "      <td>Female</td>\n",
       "      <td>36-40</td>\n",
       "      <td>NaN</td>\n",
       "      <td>NaN</td>\n",
       "      <td>NaN</td>\n",
       "      <td>NaN</td>\n",
       "      <td>NaN</td>\n",
       "      <td>7.0</td>\n",
       "    </tr>\n",
       "    <tr>\n",
       "      <th>5</th>\n",
       "      <td>6</td>\n",
       "      <td>Resignation-Other reasons</td>\n",
       "      <td>May-12</td>\n",
       "      <td>1994</td>\n",
       "      <td>1997</td>\n",
       "      <td>Guidance Officer</td>\n",
       "      <td>NaN</td>\n",
       "      <td>Central Office</td>\n",
       "      <td>Education Queensland</td>\n",
       "      <td>Permanent Full-time</td>\n",
       "      <td>...</td>\n",
       "      <td>False</td>\n",
       "      <td>False</td>\n",
       "      <td>Female</td>\n",
       "      <td>41-45</td>\n",
       "      <td>NaN</td>\n",
       "      <td>NaN</td>\n",
       "      <td>NaN</td>\n",
       "      <td>NaN</td>\n",
       "      <td>NaN</td>\n",
       "      <td>18.0</td>\n",
       "    </tr>\n",
       "    <tr>\n",
       "      <th>8</th>\n",
       "      <td>9</td>\n",
       "      <td>Resignation-Other reasons</td>\n",
       "      <td>Jul-12</td>\n",
       "      <td>2009</td>\n",
       "      <td>2009</td>\n",
       "      <td>Teacher</td>\n",
       "      <td>Secondary</td>\n",
       "      <td>North Queensland</td>\n",
       "      <td>NaN</td>\n",
       "      <td>Permanent Full-time</td>\n",
       "      <td>...</td>\n",
       "      <td>False</td>\n",
       "      <td>False</td>\n",
       "      <td>Female</td>\n",
       "      <td>31-35</td>\n",
       "      <td>NaN</td>\n",
       "      <td>NaN</td>\n",
       "      <td>NaN</td>\n",
       "      <td>NaN</td>\n",
       "      <td>NaN</td>\n",
       "      <td>3.0</td>\n",
       "    </tr>\n",
       "    <tr>\n",
       "      <th>9</th>\n",
       "      <td>10</td>\n",
       "      <td>Resignation-Other employer</td>\n",
       "      <td>2012</td>\n",
       "      <td>1997</td>\n",
       "      <td>2008</td>\n",
       "      <td>Teacher Aide</td>\n",
       "      <td>NaN</td>\n",
       "      <td>Not Stated</td>\n",
       "      <td>NaN</td>\n",
       "      <td>Permanent Part-time</td>\n",
       "      <td>...</td>\n",
       "      <td>False</td>\n",
       "      <td>False</td>\n",
       "      <td>Female</td>\n",
       "      <td>46-50</td>\n",
       "      <td>NaN</td>\n",
       "      <td>NaN</td>\n",
       "      <td>NaN</td>\n",
       "      <td>NaN</td>\n",
       "      <td>NaN</td>\n",
       "      <td>15.0</td>\n",
       "    </tr>\n",
       "    <tr>\n",
       "      <th>11</th>\n",
       "      <td>12</td>\n",
       "      <td>Resignation-Move overseas/interstate</td>\n",
       "      <td>2012</td>\n",
       "      <td>2009</td>\n",
       "      <td>2009</td>\n",
       "      <td>Teacher</td>\n",
       "      <td>Secondary</td>\n",
       "      <td>Far North Queensland</td>\n",
       "      <td>NaN</td>\n",
       "      <td>Permanent Full-time</td>\n",
       "      <td>...</td>\n",
       "      <td>False</td>\n",
       "      <td>False</td>\n",
       "      <td>Male</td>\n",
       "      <td>31-35</td>\n",
       "      <td>NaN</td>\n",
       "      <td>NaN</td>\n",
       "      <td>NaN</td>\n",
       "      <td>NaN</td>\n",
       "      <td>NaN</td>\n",
       "      <td>3.0</td>\n",
       "    </tr>\n",
       "  </tbody>\n",
       "</table>\n",
       "<p>5 rows × 36 columns</p>\n",
       "</div>"
      ],
      "text/plain": [
       "    id                        separationtype cease_date dete_start_date  \\\n",
       "3    4             Resignation-Other reasons     May-12            2005   \n",
       "5    6             Resignation-Other reasons     May-12            1994   \n",
       "8    9             Resignation-Other reasons     Jul-12            2009   \n",
       "9   10            Resignation-Other employer       2012            1997   \n",
       "11  12  Resignation-Move overseas/interstate       2012            2009   \n",
       "\n",
       "   role_start_date          position classification                region  \\\n",
       "3             2006           Teacher        Primary    Central Queensland   \n",
       "5             1997  Guidance Officer            NaN        Central Office   \n",
       "8             2009           Teacher      Secondary      North Queensland   \n",
       "9             2008      Teacher Aide            NaN            Not Stated   \n",
       "11            2009           Teacher      Secondary  Far North Queensland   \n",
       "\n",
       "           business_unit    employment_status  ...  workload  \\\n",
       "3                    NaN  Permanent Full-time  ...     False   \n",
       "5   Education Queensland  Permanent Full-time  ...     False   \n",
       "8                    NaN  Permanent Full-time  ...     False   \n",
       "9                    NaN  Permanent Part-time  ...     False   \n",
       "11                   NaN  Permanent Full-time  ...     False   \n",
       "\n",
       "    none_of_the_above  gender    age  aboriginal  torres_strait  south_sea  \\\n",
       "3               False  Female  36-40         NaN            NaN        NaN   \n",
       "5               False  Female  41-45         NaN            NaN        NaN   \n",
       "8               False  Female  31-35         NaN            NaN        NaN   \n",
       "9               False  Female  46-50         NaN            NaN        NaN   \n",
       "11              False    Male  31-35         NaN            NaN        NaN   \n",
       "\n",
       "    disability  nesb  institute_service  \n",
       "3          NaN   NaN                7.0  \n",
       "5          NaN   NaN               18.0  \n",
       "8          NaN   NaN                3.0  \n",
       "9          NaN   NaN               15.0  \n",
       "11         NaN   NaN                3.0  \n",
       "\n",
       "[5 rows x 36 columns]"
      ]
     },
     "execution_count": 1241,
     "metadata": {},
     "output_type": "execute_result"
    }
   ],
   "source": [
    "#caluculaing length of service \n",
    "dete_resignations['institute_service'] =dete_survey_updated['cease_date'] -  dete_survey_updated['dete_start_date']\n",
    "dete_resignations.head(5)"
   ]
  },
  {
   "cell_type": "markdown",
   "metadata": {},
   "source": [
    "We are trying to ascertain wether the resignation reson ties to length of the service. To do this in the dete data set, we inputed the service time from the startdate and the cease date variable.\n",
    "Now we will go ahead and look at the dissatisfaction in the employees \n",
    "\n",
    "In tafe_survey_updated, the colums to look at are :\n",
    "* Contributing Factors. Dissatisfaction\n",
    "* Contributing Factors. Job Dissatisfaction\n",
    "\n",
    "In dete_survey_updated the columns to look at are - \n",
    "* job_dissatisfaction\n",
    "* dissatisfaction_with_the_department\n",
    "* physical_work_environment\n",
    "* lack_of_recognition\n",
    "* lack_of_job_security\n",
    "* work_location\n",
    "* employment_conditions\n",
    "* work_life_balance\n",
    "* workload\n",
    "\n",
    "We will create a new column called dissatisfied which is based on the following - \n",
    " * Return True if any element in the selected columns above is True\n",
    " * Return False if none of the elements in the selected columns above is True\n",
    " * Return NaN if the value is NaN\n"
   ]
  },
  {
   "cell_type": "code",
   "execution_count": 1242,
   "metadata": {},
   "outputs": [],
   "source": [
    "tafe_survey_updated.columns\n",
    "# let us look at 'contributing_factors_dissatisfaction'\n",
    "tafe_survey_updated['contributing_factors_dissatisfaction'] = tafe_survey_updated['contributing_factors_dissatisfaction'].str.strip()\n",
    "col_map = {'Contributing Factors. Dissatisfaction': True , '-':False , 'NaN': np.nan}\n",
    "tafe_survey_updated['contributing_factors_dissatisfaction'] = tafe_survey_updated['contributing_factors_dissatisfaction'].map(col_map)\n"
   ]
  },
  {
   "cell_type": "code",
   "execution_count": 1243,
   "metadata": {},
   "outputs": [
    {
     "data": {
      "text/plain": [
       "False    369\n",
       "NaN      262\n",
       "True      64\n",
       "Name: contributing_factors_dissatisfaction, dtype: int64"
      ]
     },
     "execution_count": 1243,
     "metadata": {},
     "output_type": "execute_result"
    }
   ],
   "source": [
    "tafe_survey_updated['contributing_factors_dissatisfaction'].value_counts(dropna = False)"
   ]
  },
  {
   "cell_type": "code",
   "execution_count": 1244,
   "metadata": {
    "scrolled": true
   },
   "outputs": [],
   "source": [
    "tafe_survey_updated.columns\n",
    "# let us look at 'contributing_factors_job_dissatisfaction')\n",
    "tafe_survey_updated['contributing_factors_job_dissatisfaction'] = tafe_survey_updated['contributing_factors_job_dissatisfaction'].str.strip()\n",
    "tafe_survey_updated['contributing_factors_job_dissatisfaction'].value_counts()\n",
    "col_map = {'Job Dissatisfaction':True, '-':False, 'NaN':np.nan}\n",
    "tafe_survey_updated['contributing_factors_job_dissatisfaction'] = tafe_survey_updated['contributing_factors_job_dissatisfaction'].map(col_map)\n"
   ]
  },
  {
   "cell_type": "code",
   "execution_count": 1245,
   "metadata": {},
   "outputs": [
    {
     "data": {
      "text/plain": [
       "False    356\n",
       "NaN      262\n",
       "True      77\n",
       "Name: contributing_factors_job_dissatisfaction, dtype: int64"
      ]
     },
     "execution_count": 1245,
     "metadata": {},
     "output_type": "execute_result"
    }
   ],
   "source": [
    "tafe_survey_updated['contributing_factors_job_dissatisfaction'].value_counts(dropna = False)"
   ]
  },
  {
   "cell_type": "markdown",
   "metadata": {},
   "source": [
    "We will create a new column called dissatisfied which is based on the following - \n",
    " * Return True if any element in the selected columns above is True\n",
    " *  Return False if none of the elements in the selected columns above is True\n",
    " * Return NaN if the value is NaN"
   ]
  },
  {
   "cell_type": "code",
   "execution_count": 1246,
   "metadata": {},
   "outputs": [
    {
     "data": {
      "text/plain": [
       "3    False\n",
       "4    False\n",
       "5    False\n",
       "6    False\n",
       "7    False\n",
       "Name: dissatisfied, dtype: object"
      ]
     },
     "execution_count": 1246,
     "metadata": {},
     "output_type": "execute_result"
    }
   ],
   "source": [
    "combined = tafe_survey_updated[['contributing_factors_dissatisfaction','contributing_factors_job_dissatisfaction']]\n",
    "tafe_resignations['dissatisfied'] = combined.any(axis = 1, skipna = False)\n",
    "tafe_resignations['dissatisfied'].head()"
   ]
  },
  {
   "cell_type": "markdown",
   "metadata": {},
   "source": [
    "dete dataframe analysis"
   ]
  },
  {
   "cell_type": "code",
   "execution_count": 1247,
   "metadata": {},
   "outputs": [],
   "source": [
    "# let us look at these columns \n",
    "combined = dete_survey_updated[['job_dissatisfaction', 'dissatisfaction_with_the_department',\n",
    "       'physical_work_environment', 'lack_of_recognition',\n",
    "       'lack_of_job_security', 'work_location', 'employment_conditions',\n",
    "       'maternityfamily', 'relocation', 'studytravel', 'ill_health',\n",
    "       'traumatic_incident', 'work_life_balance', 'workload',]]\n",
    "dete_resignations['dissatisfied'] = combined.any(axis=1, skipna = False)"
   ]
  },
  {
   "cell_type": "code",
   "execution_count": 1248,
   "metadata": {},
   "outputs": [
    {
     "data": {
      "text/plain": [
       "3     False\n",
       "5      True\n",
       "8     False\n",
       "9      True\n",
       "11     True\n",
       "Name: dissatisfied, dtype: object"
      ]
     },
     "execution_count": 1248,
     "metadata": {},
     "output_type": "execute_result"
    }
   ],
   "source": [
    "dete_resignations['dissatisfied'].head()"
   ]
  },
  {
   "cell_type": "markdown",
   "metadata": {},
   "source": [
    "Now we have a dissatisfied columns, the length of service in both tafe and dete dataframe\n",
    "Let us add another column to dede and the tafe resignation dataframe to mark the source"
   ]
  },
  {
   "cell_type": "code",
   "execution_count": 1249,
   "metadata": {},
   "outputs": [],
   "source": [
    "tafe_resignations['institute'] = 'TAFE'\n",
    "dete_resignations['institute'] = 'DETE'"
   ]
  },
  {
   "cell_type": "code",
   "execution_count": 1250,
   "metadata": {},
   "outputs": [],
   "source": [
    "tafe_resignations.columns\n",
    "tafe_resignations_up = tafe_resignations[['id','institute', 'separationtype', 'gender', 'age','institute_service', 'dissatisfied']]"
   ]
  },
  {
   "cell_type": "code",
   "execution_count": 1251,
   "metadata": {},
   "outputs": [],
   "source": [
    "dete_resignations.columns\n",
    "dete_resignations_up = dete_resignations[['id','institute', 'separationtype', 'gender', 'age','institute_service', 'dissatisfied' ]]"
   ]
  },
  {
   "cell_type": "markdown",
   "metadata": {},
   "source": [
    "Now both the datasets have the same columns which are needed for the analysis. Lets us go ahead and combine both the datasets datasets vertically that have the same columns"
   ]
  },
  {
   "cell_type": "code",
   "execution_count": 1252,
   "metadata": {
    "collapsed": true
   },
   "outputs": [],
   "source": [
    "combined = pd.concat([tafe_resignations_up, dete_resignations_up])"
   ]
  },
  {
   "cell_type": "code",
   "execution_count": 1253,
   "metadata": {},
   "outputs": [
    {
     "data": {
      "text/html": [
       "<div>\n",
       "<style scoped>\n",
       "    .dataframe tbody tr th:only-of-type {\n",
       "        vertical-align: middle;\n",
       "    }\n",
       "\n",
       "    .dataframe tbody tr th {\n",
       "        vertical-align: top;\n",
       "    }\n",
       "\n",
       "    .dataframe thead th {\n",
       "        text-align: right;\n",
       "    }\n",
       "</style>\n",
       "<table border=\"1\" class=\"dataframe\">\n",
       "  <thead>\n",
       "    <tr style=\"text-align: right;\">\n",
       "      <th></th>\n",
       "      <th>id</th>\n",
       "      <th>institute</th>\n",
       "      <th>separationtype</th>\n",
       "      <th>gender</th>\n",
       "      <th>age</th>\n",
       "      <th>institute_service</th>\n",
       "      <th>dissatisfied</th>\n",
       "    </tr>\n",
       "  </thead>\n",
       "  <tbody>\n",
       "    <tr>\n",
       "      <th>3</th>\n",
       "      <td>6.341400e+17</td>\n",
       "      <td>TAFE</td>\n",
       "      <td>Resignation</td>\n",
       "      <td>NaN</td>\n",
       "      <td>NaN</td>\n",
       "      <td>NaN</td>\n",
       "      <td>False</td>\n",
       "    </tr>\n",
       "    <tr>\n",
       "      <th>4</th>\n",
       "      <td>6.341470e+17</td>\n",
       "      <td>TAFE</td>\n",
       "      <td>Resignation</td>\n",
       "      <td>Male</td>\n",
       "      <td>41  45</td>\n",
       "      <td>4-Mar</td>\n",
       "      <td>False</td>\n",
       "    </tr>\n",
       "    <tr>\n",
       "      <th>5</th>\n",
       "      <td>6.341480e+17</td>\n",
       "      <td>TAFE</td>\n",
       "      <td>Resignation</td>\n",
       "      <td>Female</td>\n",
       "      <td>56 or older</td>\n",
       "      <td>10-Jul</td>\n",
       "      <td>False</td>\n",
       "    </tr>\n",
       "    <tr>\n",
       "      <th>6</th>\n",
       "      <td>6.341520e+17</td>\n",
       "      <td>TAFE</td>\n",
       "      <td>Resignation</td>\n",
       "      <td>Male</td>\n",
       "      <td>20 or younger</td>\n",
       "      <td>4-Mar</td>\n",
       "      <td>False</td>\n",
       "    </tr>\n",
       "    <tr>\n",
       "      <th>7</th>\n",
       "      <td>6.341540e+17</td>\n",
       "      <td>TAFE</td>\n",
       "      <td>Resignation</td>\n",
       "      <td>Male</td>\n",
       "      <td>46  50</td>\n",
       "      <td>4-Mar</td>\n",
       "      <td>False</td>\n",
       "    </tr>\n",
       "  </tbody>\n",
       "</table>\n",
       "</div>"
      ],
      "text/plain": [
       "             id institute separationtype  gender            age  \\\n",
       "3  6.341400e+17      TAFE    Resignation     NaN            NaN   \n",
       "4  6.341470e+17      TAFE    Resignation    Male        41  45   \n",
       "5  6.341480e+17      TAFE    Resignation  Female    56 or older   \n",
       "6  6.341520e+17      TAFE    Resignation    Male  20 or younger   \n",
       "7  6.341540e+17      TAFE    Resignation    Male        46  50   \n",
       "\n",
       "  institute_service dissatisfied  \n",
       "3               NaN        False  \n",
       "4             4-Mar        False  \n",
       "5            10-Jul        False  \n",
       "6             4-Mar        False  \n",
       "7             4-Mar        False  "
      ]
     },
     "execution_count": 1253,
     "metadata": {},
     "output_type": "execute_result"
    }
   ],
   "source": [
    "combined.head()"
   ]
  },
  {
   "cell_type": "code",
   "execution_count": 1254,
   "metadata": {},
   "outputs": [
    {
     "data": {
      "text/plain": [
       "Female    424\n",
       "Male      168\n",
       "NaN        59\n",
       "Name: gender, dtype: int64"
      ]
     },
     "execution_count": 1254,
     "metadata": {},
     "output_type": "execute_result"
    }
   ],
   "source": [
    "# let us look at each the columns and identify the nulls\n",
    "combined['gender'].value_counts(dropna = False)\n",
    "# close to 9 percent of the gender value is missing"
   ]
  },
  {
   "cell_type": "code",
   "execution_count": 1255,
   "metadata": {},
   "outputs": [
    {
     "data": {
      "text/plain": [
       "NaN                   88\n",
       "Less than 1 year      73\n",
       "2-Jan                 64\n",
       "4-Mar                 63\n",
       "6-May                 33\n",
       "20-Nov                26\n",
       "5.0                   23\n",
       "1.0                   22\n",
       "10-Jul                21\n",
       "0.0                   20\n",
       "3.0                   20\n",
       "6.0                   17\n",
       "4.0                   16\n",
       "9.0                   14\n",
       "2.0                   14\n",
       "7.0                   13\n",
       "More than 20 years    10\n",
       "8.0                    8\n",
       "13.0                   8\n",
       "15.0                   7\n",
       "20.0                   7\n",
       "10.0                   6\n",
       "12.0                   6\n",
       "14.0                   6\n",
       "17.0                   6\n",
       "22.0                   6\n",
       "18.0                   5\n",
       "16.0                   5\n",
       "24.0                   4\n",
       "11.0                   4\n",
       "23.0                   4\n",
       "21.0                   3\n",
       "32.0                   3\n",
       "19.0                   3\n",
       "39.0                   3\n",
       "26.0                   2\n",
       "28.0                   2\n",
       "36.0                   2\n",
       "30.0                   2\n",
       "25.0                   2\n",
       "41.0                   1\n",
       "38.0                   1\n",
       "49.0                   1\n",
       "42.0                   1\n",
       "33.0                   1\n",
       "35.0                   1\n",
       "34.0                   1\n",
       "29.0                   1\n",
       "27.0                   1\n",
       "31.0                   1\n",
       "Name: institute_service, dtype: int64"
      ]
     },
     "execution_count": 1255,
     "metadata": {},
     "output_type": "execute_result"
    }
   ],
   "source": [
    "combined['institute_service'].value_counts(dropna = False)\n"
   ]
  },
  {
   "cell_type": "markdown",
   "metadata": {},
   "source": [
    "We will be converting these values into categories We'll use the slightly modified definitions below:\n",
    "\n",
    "* New: Less than 3 years at a company\n",
    "* Experienced: 3-6 years at a company\n",
    "* Established: 7-10 years at a company\n",
    "* Veteran: 11 or more years at a company"
   ]
  },
  {
   "cell_type": "code",
   "execution_count": 1256,
   "metadata": {},
   "outputs": [
    {
     "data": {
      "text/plain": [
       "3    NaN\n",
       "4    1.0\n",
       "5    1.0\n",
       "6    1.0\n",
       "7    1.0\n",
       "Name: ser_len, dtype: float64"
      ]
     },
     "execution_count": 1256,
     "metadata": {},
     "output_type": "execute_result"
    }
   ],
   "source": [
    "#let us convert the column into string type to extract the eyear\n",
    "pattern1 = r\"(\\b[0-9]{2}\\b\\s)\"\n",
    "pattern2 = r\"(\\b[0-9]\\b-[A-Z][a-z]{2})\"\n",
    "pattern3 = r\"(\\b[0-9]{2}\\b-[A-Z][a-z]{2})\"\n",
    "pattern4 = r\"([A-Z][a-z]+[\\s][a-z]+[\\s+])\"\n",
    "combined['ser_len'] = combined['institute_service'].astype('str').str.replace(pattern2 , '1').str.replace(pattern3 , '1').str.replace(pattern4, '')\n",
    "combined['ser_len'] = combined['ser_len'].str.split(' ', expand = True)[0].astype('float')\n",
    "combined['ser_len'] .head()\n"
   ]
  },
  {
   "cell_type": "code",
   "execution_count": 1257,
   "metadata": {},
   "outputs": [
    {
     "data": {
      "text/plain": [
       "New            336\n",
       "Veteran        116\n",
       "NaN             88\n",
       "Experienced     59\n",
       "Established     52\n",
       "Name: service_cat, dtype: int64"
      ]
     },
     "execution_count": 1257,
     "metadata": {},
     "output_type": "execute_result"
    }
   ],
   "source": [
    "def lengthofwork(element):\n",
    "    if element < 3:\n",
    "        return 'New'\n",
    "    elif element >= 3 and element <6:\n",
    "        return 'Experienced'\n",
    "    elif element >= 6 and element <10:\n",
    "        return 'Established'\n",
    "    elif element >= 10:\n",
    "        return 'Veteran'\n",
    "    \n",
    "combined['service_cat'] = combined['ser_len'].apply(lengthofwork)\n",
    "combined['service_cat'].value_counts(dropna = False)"
   ]
  },
  {
   "cell_type": "code",
   "execution_count": 1258,
   "metadata": {},
   "outputs": [
    {
     "data": {
      "text/plain": [
       "True     340\n",
       "False    311\n",
       "Name: dissatisfied, dtype: int64"
      ]
     },
     "execution_count": 1258,
     "metadata": {},
     "output_type": "execute_result"
    }
   ],
   "source": [
    "#let us look at the dissatisfied columns\n",
    "combined['dissatisfied'].value_counts(dropna = False)\n",
    "# let us try to fill in the NAN values with 'True' as it is the most common value\n",
    "combined['dissatisfied'] = combined['dissatisfied'].fillna(True)\n",
    "combined['dissatisfied'].value_counts(dropna = False)"
   ]
  },
  {
   "cell_type": "code",
   "execution_count": 1259,
   "metadata": {},
   "outputs": [
    {
     "data": {
      "text/plain": [
       "New              336\n",
       "Veteran          116\n",
       "Not Available     88\n",
       "Experienced       59\n",
       "Established       52\n",
       "Name: service_cat, dtype: int64"
      ]
     },
     "execution_count": 1259,
     "metadata": {},
     "output_type": "execute_result"
    }
   ],
   "source": [
    "# Changing the nan values in service category to not available \n",
    "combined['service_cat'] = combined['service_cat'].fillna('Not Available')\n",
    "combined['service_cat'].value_counts(dropna = False)"
   ]
  },
  {
   "cell_type": "code",
   "execution_count": 1260,
   "metadata": {},
   "outputs": [],
   "source": [
    "# let us explore how the dissatisfaction is spread across the sevice category\n",
    "plot_values = combined.pivot_table(index = 'service_cat' , values = 'dissatisfied' , aggfunc = lambda x:(x.sum()*100/340))\n"
   ]
  },
  {
   "cell_type": "code",
   "execution_count": 1261,
   "metadata": {},
   "outputs": [
    {
     "data": {
      "image/png": "[encoded data removed]",
      "text/plain": [
       "<Figure size 432x288 with 1 Axes>"
      ]
     },
     "metadata": {},
     "output_type": "display_data"
    }
   ],
   "source": [
    "%matplotlib inline\n",
    "plot_values.plot(kind = 'barh' , ylim = (0,50), label = 'percentage')\n",
    "plt.show()"
   ]
  },
  {
   "cell_type": "markdown",
   "metadata": {},
   "source": [
    "This employees who have the lowest level of service are likely to be least happy with their jobs, followed by the veterans. The dissatisfactions seems to be the least amoungst the established employees. \n",
    "\n",
    "Now let us see how each of the age group is affected by the dissatisfaction"
   ]
  },
  {
   "cell_type": "code",
   "execution_count": 1262,
   "metadata": {},
   "outputs": [
    {
     "data": {
      "text/plain": [
       "51-55            71\n",
       "NaN              55\n",
       "41-45            48\n",
       "41  45          45\n",
       "46-50            42\n",
       "36-40            41\n",
       "46  50          39\n",
       "26-30            35\n",
       "21  25          33\n",
       "26  30          32\n",
       "31  35          32\n",
       "36  40          32\n",
       "56 or older      29\n",
       "31-35            29\n",
       "21-25            29\n",
       "56-60            26\n",
       "61 or older      23\n",
       "20 or younger    10\n",
       "Name: age, dtype: int64"
      ]
     },
     "execution_count": 1262,
     "metadata": {},
     "output_type": "execute_result"
    }
   ],
   "source": [
    "combined['age'].value_counts(dropna = False)"
   ]
  },
  {
   "cell_type": "code",
   "execution_count": 1263,
   "metadata": {},
   "outputs": [
    {
     "data": {
      "text/plain": [
       "41-45         93\n",
       "46-50         81\n",
       "36-40         73\n",
       "51-55         71\n",
       "26-30         67\n",
       "21-25         62\n",
       "31-35         61\n",
       "56-older      29\n",
       "56-60         26\n",
       "61-older      23\n",
       "20-younger    10\n",
       "Name: new_age, dtype: int64"
      ]
     },
     "execution_count": 1263,
     "metadata": {},
     "output_type": "execute_result"
    }
   ],
   "source": [
    "# cleaning this column to get proper ages\n",
    "combined[['age1', 'age2', 'age3']] = combined['age'].str.strip().str.replace(r\"\\s\", '-').str.split('-',expand = True )\n",
    "combined[['age1', 'age2', 'age3']]\n",
    "combined['age4'] = combined['age3'].fillna(combined['age2'])\n",
    "combined[['age1', 'age2', 'age3', 'age4']]\n",
    "combined['new_age'] = combined['age1'] +'-'+ combined['age4'] \n",
    "combined.drop(['age1', 'age2', 'age3', 'age4'], axis = 1)\n",
    "combined['new_age'].value_counts()"
   ]
  },
  {
   "cell_type": "code",
   "execution_count": 1265,
   "metadata": {},
   "outputs": [
    {
     "data": {
      "text/plain": [
       "41-45         93\n",
       "46-50         81\n",
       "56-older      78\n",
       "36-40         73\n",
       "51-55         71\n",
       "26-30         67\n",
       "21-25         62\n",
       "31-35         61\n",
       "NaN           55\n",
       "20-younger    10\n",
       "Name: new_age, dtype: int64"
      ]
     },
     "execution_count": 1265,
     "metadata": {},
     "output_type": "execute_result"
    }
   ],
   "source": [
    "col_map = {'56-60' :'56-older ', '61-older':'56-older ' }\n",
    "combined['new_age'] = combined['new_age'].replace(['56-60', '61-older'],'56-older')\n",
    "combined['new_age'].value_counts(dropna = False)\n"
   ]
  },
  {
   "cell_type": "code",
   "execution_count": 1268,
   "metadata": {},
   "outputs": [
    {
     "data": {
      "text/plain": [
       "41-45            93\n",
       "46-50            81\n",
       "56-older         78\n",
       "36-40            73\n",
       "51-55            71\n",
       "26-30            67\n",
       "21-25            62\n",
       "31-35            61\n",
       "Not Available    55\n",
       "20-younger       10\n",
       "Name: new_age, dtype: int64"
      ]
     },
     "execution_count": 1268,
     "metadata": {},
     "output_type": "execute_result"
    }
   ],
   "source": [
    "#let is fill the NAN values with not available\n",
    "combined['new_age'] = combined['new_age'].fillna('Not Available')\n",
    "combined['new_age'].value_counts(dropna = False)"
   ]
  },
  {
   "cell_type": "code",
   "execution_count": 1276,
   "metadata": {},
   "outputs": [
    {
     "data": {
      "text/plain": [
       "<matplotlib.axes._subplots.AxesSubplot at 0x1141f8320>"
      ]
     },
     "execution_count": 1276,
     "metadata": {},
     "output_type": "execute_result"
    },
    {
     "data": {
      "image/png": "[encoded data removed]",
      "text/plain": [
       "<Figure size 432x288 with 1 Axes>"
      ]
     },
     "metadata": {},
     "output_type": "display_data"
    }
   ],
   "source": [
    "# let us plot the dissatisfaction in amongst various age groups\n",
    "%matplotlib inline\n",
    "age_pivot = combined.pivot_table(index = 'new_age' , values = 'dissatisfied', aggfunc = lambda x:(x.sum()*100/340))\n",
    "age_pivot.plot(kind = 'barh' , ylim = (0,70), legend = False)"
   ]
  },
  {
   "cell_type": "markdown",
   "metadata": {},
   "source": [
    "Maximum dissatisfaction is observed in the age group of 56 & older, followedby 41-45. Generally people above 40 are more dissatisfied. "
   ]
  }
 ],
 "metadata": {
  "kernelspec": {
   "display_name": "Python 3",
   "language": "python",
   "name": "python3"
  },
  "language_info": {
   "codemirror_mode": {
    "name": "ipython",
    "version": 3
   },
   "file_extension": ".py",
   "mimetype": "text/x-python",
   "name": "python",
   "nbconvert_exporter": "python",
   "pygments_lexer": "ipython3",
   "version": "3.6.8"
  }
 },
 "nbformat": 4,
 "nbformat_minor": 2
}
