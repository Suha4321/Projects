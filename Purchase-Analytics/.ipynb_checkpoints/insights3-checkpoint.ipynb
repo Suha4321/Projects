{
 "cells": [
  {
   "cell_type": "code",
   "execution_count": 1,
   "metadata": {
    "collapsed": true
   },
   "outputs": [],
   "source": [
    "from csv import reader\n",
    "import time \n",
    "import operator\n",
    "from fractions import Fraction\n",
    "from decimal import * "
   ]
  },
  {
   "cell_type": "markdown",
   "metadata": {},
   "source": [
    "\n",
    " convert the table into int format than strings\n",
    " Account for the following datatype in the test\n",
    "    1) nan\n",
    "    2) boolean\n",
    "    3) below zero\n",
    "    4) int\n",
    "    5) float\n",
    "    6) complex and imaginary numbers"
   ]
  },
  {
   "cell_type": "code",
   "execution_count": 2,
   "metadata": {
    "collapsed": true
   },
   "outputs": [],
   "source": [
    "start = time.time()\n",
    "\n",
    "def open_dataset(file_name, num1, num2 , header=True):        \n",
    "    opened_file = open(file_name )\n",
    "    read_file = reader(opened_file)\n",
    "    header = next(read_file, None)\n",
    "    data = {}\n",
    "    for rows in read_file:\n",
    "        data.setdefault(int(rows[num1]), []).append(int(rows[num2]))\n",
    "        \n",
    "    return data"
   ]
  },
  {
   "cell_type": "code",
   "execution_count": 3,
   "metadata": {
    "collapsed": true
   },
   "outputs": [],
   "source": [
    "prod_list = open_dataset(file_name = '/Users/Suha/Projects/TestGitHub/Purchase-Analytics/input/products.csv',num1 = 3 ,num2 = 0, header = True)\n"
   ]
  },
  {
   "cell_type": "code",
   "execution_count": 5,
   "metadata": {
    "collapsed": true
   },
   "outputs": [],
   "source": [
    "opened_file = open('/Users/Suha/Projects/TestGitHub/Purchase-Analytics/insight_testsuite/temp/input/order_products.csv' )\n",
    "read_file = reader(opened_file)\n",
    "header = next(read_file, None)\n",
    "product_first_order =  [int(rows[1]) for rows in read_file if rows[3]=='0']\n",
    "   "
   ]
  },
  {
   "cell_type": "code",
   "execution_count": null,
   "metadata": {
    "collapsed": true
   },
   "outputs": [],
   "source": [
    "# start = time.time()\n",
    "result = []\n",
    "\n",
    "for key,value in prod_list.items():\n",
    "    total_order = sum(1 for v in value if v) \n",
    "    if total_order > 0: \n",
    "        for k,v in some_list.items(): \n",
    "        first_order = sum(1 for v in value if v in product_first_order)\n",
    "#         ratio  = \"{0:.2f}\".format(first_order/total_order)\n",
    "        ratio = str(round(Decimal(first_order/total_order),2))\n",
    "        some_list = [key, total_order , first_order, ratio ]\n",
    "        result.append(some_list)\n",
    "\n",
    "# end = time.time()\n",
    "# print('Time taken for fun program: ', end - start)\n",
    "\n",
    "\n",
    "\n"
   ]
  },
  {
   "cell_type": "code",
   "execution_count": null,
   "metadata": {
    "collapsed": true
   },
   "outputs": [],
   "source": [
    "result.sort()\n",
    "end = time.time()\n",
    "print('Time taken for fun program: ', end - start)"
   ]
  },
  {
   "cell_type": "code",
   "execution_count": null,
   "metadata": {
    "collapsed": true
   },
   "outputs": [],
   "source": []
  },
  {
   "cell_type": "code",
   "execution_count": null,
   "metadata": {
    "collapsed": true
   },
   "outputs": [],
   "source": []
  }
 ],
 "metadata": {
  "kernelspec": {
   "display_name": "Python 3",
   "language": "python",
   "name": "python3"
  },
  "language_info": {
   "codemirror_mode": {
    "name": "ipython",
    "version": 3
   },
   "file_extension": ".py",
   "mimetype": "text/x-python",
   "name": "python",
   "nbconvert_exporter": "python",
   "pygments_lexer": "ipython3",
   "version": "3.6.8"
  }
 },
 "nbformat": 4,
 "nbformat_minor": 2
}
