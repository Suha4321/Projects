{
 "cells": [
  {
   "cell_type": "code",
   "execution_count": 255,
   "metadata": {
    "collapsed": true
   },
   "outputs": [],
   "source": [
    "import csv \n",
    "\n",
    "import time \n",
    "import operator\n",
    "from fractions import Fraction\n",
    "from decimal import * \n",
    "\n",
    "import os\n",
    "import sys\n"
   ]
  },
  {
   "cell_type": "markdown",
   "metadata": {},
   "source": [
    "\n",
    " convert the table into int format than strings\n",
    " Account for the following datatype in the test\n",
    "    1) nan\n",
    "    2) boolean\n",
    "    3) below zero\n",
    "    4) int\n",
    "    5) float\n",
    "    6) complex and imaginary numbers"
   ]
  },
  {
   "cell_type": "code",
   "execution_count": 256,
   "metadata": {},
   "outputs": [],
   "source": [
    "#ariables\n",
    "my_path_prod = \"/Users/Suha/Projects/TestGitHub/Purchase-Analytics/insight_testsuite/tests/null_value_test/input/products.csv\"       \n",
    "my_path_prod_orders = \"/Users/Suha/Projects/TestGitHub/Purchase-Analytics/insight_testsuite/tests/null_value_test/input/order_products.csv\" "
   ]
  },
  {
   "cell_type": "code",
   "execution_count": 257,
   "metadata": {},
   "outputs": [
    {
     "name": "stdout",
     "output_type": "stream",
     "text": [
      "Empty file test : pass\n",
      "Empty file test : pass\n"
     ]
    }
   ],
   "source": [
    "# test for empty file\n",
    "\n",
    "def empty_file(my_path ):\n",
    "    if os.path.exists(my_path) and os.path.getsize(my_path) > 0:\n",
    "        print(\"Empty file test : pass\")\n",
    "    else:\n",
    "        filename = (os.path.basename(my_path))\n",
    "        print(\"the file \" + filename +\" is empty\")\n",
    "\n",
    "\n",
    "\n",
    "# Check for empty product file         \n",
    "empty_file(my_path_prod)\n",
    "\n",
    "# check for empty product order file \n",
    "empty_file(my_path_prod_orders)\n"
   ]
  },
  {
   "cell_type": "code",
   "execution_count": 258,
   "metadata": {
    "collapsed": true
   },
   "outputs": [],
   "source": [
    "# null value test"
   ]
  },
  {
   "cell_type": "code",
   "execution_count": 293,
   "metadata": {},
   "outputs": [],
   "source": [
    "def read_dataset_to_dict(file_name, num1, num2 , header=True):\n",
    "    with open(file_name) as opened_file:\n",
    "        read_file = reader(opened_file)\n",
    "        header = next(read_file, None)\n",
    "        data = {}\n",
    "        for rows in read_file:\n",
    "            if rows[num1] != None:\n",
    "                if rows[num2] != None:\n",
    "                    try:\n",
    "                        data.setdefault(int(rows[num1]), []).append(int(rows[num2])) \n",
    "                    except:\n",
    "                        continue\n",
    "                        \n",
    "        for key in list(data):\n",
    "            if data[key] == []:\n",
    "                try:\n",
    "                    data.pop(key)\n",
    "                except:\n",
    "                    continue\n",
    "        return data\n",
    "\n",
    "\n"
   ]
  },
  {
   "cell_type": "code",
   "execution_count": 270,
   "metadata": {},
   "outputs": [],
   "source": [
    "def read_dataset_to_list(file_name, num1, num2 , header=True):\n",
    "        req_list = []\n",
    "        with open(file_name) as opened_file:\n",
    "            read_file = reader(opened_file)\n",
    "            header = next(read_file, None)\n",
    "            for rows in read_file:\n",
    "                try:\n",
    "                    if rows[num2]=='0':\n",
    "                        some_list = int(rows[num1])\n",
    "                        req_list.append(some_list)\n",
    "                except:\n",
    "                    continue\n",
    "            return req_list"
   ]
  },
  {
   "cell_type": "code",
   "execution_count": 294,
   "metadata": {},
   "outputs": [
    {
     "data": {
      "text/plain": [
       "{3: [46842], 4: [28985], 13: [9327, 45918], 16: [17668, 33120]}"
      ]
     },
     "execution_count": 294,
     "metadata": {},
     "output_type": "execute_result"
    }
   ],
   "source": [
    "# use the function 'open_dataset' to extract the required rows\n",
    "prod_list = read_dataset_to_dict(file_name = my_path_prod,num1 = 3 ,num2 = 0, header = True)\n",
    "product_first_order = read_dataset_to_list(file_name = my_path_prod_orders, num1 = 1 , num2 = 3, header = True)\n",
    "# product_first_order\n",
    "prod_list\n",
    "product_first_order\n",
    "prod_list"
   ]
  },
  {
   "cell_type": "code",
   "execution_count": 262,
   "metadata": {},
   "outputs": [
    {
     "data": {
      "text/plain": [
       "{13: [9327]}"
      ]
     },
     "execution_count": 262,
     "metadata": {},
     "output_type": "execute_result"
    }
   ],
   "source": [
    "first_order_dict = {}\n",
    "\n",
    "for key,value in prod_list.items():\n",
    "    for element in value:\n",
    "        if element in product_first_order:\n",
    "            first_order_dict.setdefault(key, []).append(element)  \n",
    "\n",
    "first_order_dict"
   ]
  },
  {
   "cell_type": "code",
   "execution_count": 263,
   "metadata": {},
   "outputs": [],
   "source": [
    "# start = time.time()\n",
    "result = []\n",
    "\n",
    "for key,value in prod_list.items():\n",
    "    total_order = sum(1 for v in value if v) \n",
    "    if total_order > 0: \n",
    "        if key in first_order_dict:\n",
    "            for k,v in first_order_dict.items(): \n",
    "                first_order = sum(1 for element in v if element)\n",
    "#                 ratio  = \"{0:.2f}\".format(first_order/total_order)\n",
    "                ratio = str(round(Decimal(first_order/total_order),2))\n",
    "        else:\n",
    "            first_order = 0\n",
    "            ratio = str(round(Decimal(first_order/total_order),2))\n",
    "    some_list = [key, total_order , first_order, ratio ]\n",
    "    result.append(some_list)\n",
    "\n",
    "# end = time.time()\n",
    "# print('Time taken for fun program: ', end - start)"
   ]
  },
  {
   "cell_type": "code",
   "execution_count": 264,
   "metadata": {},
   "outputs": [
    {
     "name": "stdout",
     "output_type": "stream",
     "text": [
      "Time taken for fun program:  14065.376800060272\n"
     ]
    }
   ],
   "source": [
    "result.sort()\n",
    "end = time.time()\n",
    "print('Time taken for fun program: ', end - start)"
   ]
  },
  {
   "cell_type": "code",
   "execution_count": 265,
   "metadata": {},
   "outputs": [],
   "source": [
    "with open('test.csv', mode='w', newline='') as myfile:\n",
    "    wr = csv.writer(myfile , delimiter=',', quotechar='\"', quoting=csv.QUOTE_MINIMAL )\n",
    "    wr.writerow(['department_id','number_of_orders','number_of_first_orders','percentage'])\n",
    "    for row in result:\n",
    "            wr.writerow(row)"
   ]
  },
  {
   "cell_type": "code",
   "execution_count": 266,
   "metadata": {},
   "outputs": [
    {
     "data": {
      "text/plain": [
       "[[3, 1, 0, '0.00'],\n",
       " [4, 1, 0, '0.00'],\n",
       " [12, 0, 1, '0.50'],\n",
       " [13, 2, 1, '0.50'],\n",
       " [16, 2, 0, '0.00']]"
      ]
     },
     "execution_count": 266,
     "metadata": {},
     "output_type": "execute_result"
    }
   ],
   "source": [
    "result"
   ]
  },
  {
   "cell_type": "code",
   "execution_count": null,
   "metadata": {
    "collapsed": true
   },
   "outputs": [],
   "source": []
  }
 ],
 "metadata": {
  "kernelspec": {
   "display_name": "Python 3",
   "language": "python",
   "name": "python3"
  },
  "language_info": {
   "codemirror_mode": {
    "name": "ipython",
    "version": 3
   },
   "file_extension": ".py",
   "mimetype": "text/x-python",
   "name": "python",
   "nbconvert_exporter": "python",
   "pygments_lexer": "ipython3",
   "version": "3.6.8"
  }
 },
 "nbformat": 4,
 "nbformat_minor": 2
}
