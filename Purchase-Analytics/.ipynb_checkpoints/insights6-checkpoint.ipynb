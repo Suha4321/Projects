{
 "cells": [
  {
   "cell_type": "code",
   "execution_count": 234,
   "metadata": {
    "collapsed": true
   },
   "outputs": [],
   "source": [
    "import csv \n",
    "from csv import reader\n",
    "import time \n",
    "from decimal import * \n",
    "\n",
    "import os\n",
    "import sys\n"
   ]
  },
  {
   "cell_type": "markdown",
   "metadata": {},
   "source": [
    "\n",
    " convert the table into int format than strings\n",
    " Account for the following datatype in the test\n",
    "    1) nan\n",
    "    2) boolean\n",
    "    3) below zero\n",
    "    4) int\n",
    "    5) float\n",
    "    6) complex and imaginary numbers"
   ]
  },
  {
   "cell_type": "code",
   "execution_count": null,
   "metadata": {
    "collapsed": true
   },
   "outputs": [],
   "source": []
  },
  {
   "cell_type": "code",
   "execution_count": 235,
   "metadata": {
    "collapsed": true
   },
   "outputs": [],
   "source": [
    "end = time.time()\n",
    "#variables\n",
    "my_path_prod = \"/Users/Suha/Projects/TestGitHub/Purchase-Analytics/insight_testsuite/tests/empty_file_test/input/products.csv\"       \n",
    "my_path_prod_orders = \"/Users/Suha/Projects/TestGitHub/Purchase-Analytics/insight_testsuite/tests/empty_file_test/input/order_products.csv\" "
   ]
  },
  {
   "cell_type": "code",
   "execution_count": 236,
   "metadata": {},
   "outputs": [
    {
     "name": "stdout",
     "output_type": "stream",
     "text": [
      "the file products.csv is empty\n",
      "the file order_products.csv is empty\n"
     ]
    }
   ],
   "source": [
    "# test for empty file\n",
    "\n",
    "def empty_file(my_path ):\n",
    "    if os.path.exists(my_path) and os.path.getsize(my_path) > 0:\n",
    "        pass\n",
    "    else:\n",
    "        filename = (os.path.basename(my_path))\n",
    "        print(\"the file \" + filename +\" is empty\")\n",
    "\n",
    "\n",
    "\n",
    "# Check for empty product file         \n",
    "empty_file(my_path_prod)\n",
    "\n",
    "# check for empty product order file \n",
    "empty_file(my_path_prod_orders)\n"
   ]
  },
  {
   "cell_type": "code",
   "execution_count": 237,
   "metadata": {
    "collapsed": true
   },
   "outputs": [],
   "source": [
    "# null value test"
   ]
  },
  {
   "cell_type": "code",
   "execution_count": 238,
   "metadata": {},
   "outputs": [],
   "source": [
    "def read_dataset_to_dict(file_name, num1, num2 , header=True):\n",
    "    with open(file_name) as opened_file:\n",
    "        read_file = reader(opened_file)\n",
    "        if header == True:\n",
    "            next(read_file, None)\n",
    "        else:\n",
    "            pass\n",
    "        data = {}\n",
    "        for rows in read_file:\n",
    "            if rows[num1] != '' :\n",
    "                if rows[num2] != '':\n",
    "                    try:\n",
    "                        data.setdefault(rows[num1], []).append(rows[num2]) \n",
    "                    except:\n",
    "                        continue\n",
    "                        \n",
    "#         for key in list(data):\n",
    "#             if data[key] == []:\n",
    "#                 try:\n",
    "#                     data.pop(key)\n",
    "#                 except:\n",
    "#                     continue\n",
    "        return data\n",
    "\n",
    "\n"
   ]
  },
  {
   "cell_type": "code",
   "execution_count": 239,
   "metadata": {},
   "outputs": [],
   "source": [
    "def read_dataset_to_list(file_name, num1, num2 , header=True):\n",
    "    req_list = []\n",
    "    with open(file_name) as opened_file:\n",
    "        read_file = reader(opened_file)\n",
    "        if header==True:\n",
    "            next(read_file, None)\n",
    "        else:\n",
    "            pass\n",
    "        for rows in read_file:\n",
    "            if rows[num2]=='0':\n",
    "                if rows[num1] != '':\n",
    "                    try:\n",
    "                        some_list = rows[num1]\n",
    "                        req_list.append(some_list)\n",
    "                    except:\n",
    "                        continue\n",
    "        return req_list"
   ]
  },
  {
   "cell_type": "code",
   "execution_count": 240,
   "metadata": {},
   "outputs": [
    {
     "data": {
      "text/plain": [
       "{}"
      ]
     },
     "execution_count": 240,
     "metadata": {},
     "output_type": "execute_result"
    }
   ],
   "source": [
    "# use the function 'open_dataset' to extract the required rows\n",
    "prod_list = read_dataset_to_dict(file_name = my_path_prod,num1 = 3 ,num2 = 0, header = True)\n",
    "product_first_order = read_dataset_to_list(file_name = my_path_prod_orders, num1 = 1 , num2 = 3, header = True)\n",
    "# product_first_order\n",
    "prod_list\n"
   ]
  },
  {
   "cell_type": "code",
   "execution_count": 241,
   "metadata": {},
   "outputs": [
    {
     "data": {
      "text/plain": [
       "{}"
      ]
     },
     "execution_count": 241,
     "metadata": {},
     "output_type": "execute_result"
    }
   ],
   "source": [
    "first_order_dict = {}\n",
    "\n",
    "for key,value in prod_list.items():\n",
    "    for element in value:\n",
    "        if element in product_first_order:\n",
    "            \n",
    "            first_order_dict.setdefault(key, []).append(element) \n",
    "first_order_dict"
   ]
  },
  {
   "cell_type": "code",
   "execution_count": 242,
   "metadata": {},
   "outputs": [],
   "source": [
    "# start = time.time()\n",
    "result = []\n",
    "getcontext().prec = 3\n",
    "\n",
    "for key,value in prod_list.items():\n",
    "    total_order = sum(1 for v in value if v) \n",
    "    if total_order > 0: \n",
    "        if key in first_order_dict:\n",
    "            for k,v in first_order_dict.items(): \n",
    "                first_order = sum(1 for element in v if element)\n",
    "#                 ratio  = \"{0:.2f}\".format(first_order/total_order)\n",
    "                ratio = str(round(Decimal(first_order/total_order),2))\n",
    "        else:\n",
    "            first_order = 0\n",
    "            ratio = str(round(Decimal(first_order/total_order),2))\n",
    "        try:\n",
    "            some_list = [int(key), total_order , first_order, ratio ]\n",
    "        except ValueError as e:\n",
    "            print(e)\n",
    "            continue\n",
    "    result.append(some_list)\n",
    "\n",
    "# end = time.time()\n",
    "# print('Time taken for fun program: ', end - start)"
   ]
  },
  {
   "cell_type": "code",
   "execution_count": 243,
   "metadata": {},
   "outputs": [
    {
     "data": {
      "text/plain": [
       "[]"
      ]
     },
     "execution_count": 243,
     "metadata": {},
     "output_type": "execute_result"
    }
   ],
   "source": [
    "result.sort()\n",
    "\n",
    "result"
   ]
  },
  {
   "cell_type": "code",
   "execution_count": 244,
   "metadata": {
    "collapsed": true
   },
   "outputs": [],
   "source": [
    "with open('test.csv', mode='w', newline='') as myfile:\n",
    "    \n",
    "    wr = csv.writer(myfile , delimiter=',', quotechar='\"', quoting=csv.QUOTE_MINIMAL )\n",
    "    wr.writerow(['department_id','number_of_orders','number_of_first_orders','percentage'])\n",
    "    for row in result:\n",
    "            wr.writerow(row)"
   ]
  },
  {
   "cell_type": "code",
   "execution_count": null,
   "metadata": {},
   "outputs": [],
   "source": []
  },
  {
   "cell_type": "code",
   "execution_count": null,
   "metadata": {
    "collapsed": true
   },
   "outputs": [],
   "source": []
  }
 ],
 "metadata": {
  "kernelspec": {
   "display_name": "Python 3",
   "language": "python",
   "name": "python3"
  },
  "language_info": {
   "codemirror_mode": {
    "name": "ipython",
    "version": 3
   },
   "file_extension": ".py",
   "mimetype": "text/x-python",
   "name": "python",
   "nbconvert_exporter": "python",
   "pygments_lexer": "ipython3",
   "version": "3.6.8"
  }
 },
 "nbformat": 4,
 "nbformat_minor": 2
}
